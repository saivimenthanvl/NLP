{
  "nbformat": 4,
  "nbformat_minor": 0,
  "metadata": {
    "colab": {
      "provenance": []
    },
    "kernelspec": {
      "name": "python3",
      "display_name": "Python 3"
    },
    "language_info": {
      "name": "python"
    }
  },
  "cells": [
    {
      "cell_type": "markdown",
      "source": [
        "## Stemming"
      ],
      "metadata": {
        "id": "oRJSBcGcCmcB"
      }
    },
    {
      "cell_type": "code",
      "execution_count": 1,
      "metadata": {
        "id": "PWBt8nuZCl6U"
      },
      "outputs": [],
      "source": [
        "import nltk #natural language tool-kit"
      ]
    },
    {
      "cell_type": "code",
      "source": [
        "from nltk.stem.porter import PorterStemmer"
      ],
      "metadata": {
        "id": "uLIdp8teCsGq"
      },
      "execution_count": 2,
      "outputs": []
    },
    {
      "cell_type": "code",
      "source": [
        "stemmer = PorterStemmer()"
      ],
      "metadata": {
        "id": "QCGJvIYLCyne"
      },
      "execution_count": 3,
      "outputs": []
    },
    {
      "cell_type": "code",
      "source": [
        "words = ['who','ask','asked','asking','work','working','worked']"
      ],
      "metadata": {
        "id": "g79TIg0FC1WS"
      },
      "execution_count": 8,
      "outputs": []
    },
    {
      "cell_type": "code",
      "source": [
        "for word in words:\n",
        "    print(f\"{word} --- {stemmer.stem(word)}\")"
      ],
      "metadata": {
        "colab": {
          "base_uri": "https://localhost:8080/"
        },
        "id": "AV4XlUk7C_yN",
        "outputId": "ce86c1eb-e30e-405a-872b-1dabf513b952"
      },
      "execution_count": 12,
      "outputs": [
        {
          "output_type": "stream",
          "name": "stdout",
          "text": [
            "who --- who\n",
            "ask --- ask\n",
            "asked --- ask\n",
            "asking --- ask\n",
            "work --- work\n",
            "working --- work\n",
            "worked --- work\n"
          ]
        }
      ]
    },
    {
      "cell_type": "code",
      "source": [
        "from nltk.stem.snowball import SnowballStemmer"
      ],
      "metadata": {
        "id": "7BgwsaMYDCl8"
      },
      "execution_count": 13,
      "outputs": []
    },
    {
      "cell_type": "code",
      "source": [
        "stemmer1 = SnowballStemmer(language='english')"
      ],
      "metadata": {
        "id": "o0wIyPVnDFW9"
      },
      "execution_count": 14,
      "outputs": []
    },
    {
      "cell_type": "code",
      "source": [
        "words = ['who','ask','asked','asking','work','working','worked']"
      ],
      "metadata": {
        "id": "6lyGyk56DIj6"
      },
      "execution_count": 15,
      "outputs": []
    },
    {
      "cell_type": "code",
      "source": [
        "for word in words:\n",
        "    print(f\"{word} --- {stemmer1.stem(word)}\")"
      ],
      "metadata": {
        "colab": {
          "base_uri": "https://localhost:8080/"
        },
        "id": "qmPfTVbkDQK2",
        "outputId": "42217be2-5d1f-40d0-ba8e-9861c8d845c2"
      },
      "execution_count": 16,
      "outputs": [
        {
          "output_type": "stream",
          "name": "stdout",
          "text": [
            "who --- who\n",
            "ask --- ask\n",
            "asked --- ask\n",
            "asking --- ask\n",
            "work --- work\n",
            "working --- work\n",
            "worked --- work\n"
          ]
        }
      ]
    },
    {
      "cell_type": "markdown",
      "source": [
        "##Lemmatization"
      ],
      "metadata": {
        "id": "xLb2_oNPDWUI"
      }
    },
    {
      "cell_type": "code",
      "source": [
        "import spacy"
      ],
      "metadata": {
        "id": "Jo1slmjhDT-0"
      },
      "execution_count": 17,
      "outputs": []
    },
    {
      "cell_type": "code",
      "source": [
        "nlp = spacy.load('en_core_web_sm')"
      ],
      "metadata": {
        "id": "23XHthyuDZK7"
      },
      "execution_count": 18,
      "outputs": []
    },
    {
      "cell_type": "code",
      "source": [
        "doc = nlp(\"I was working and thinking my boss asked me about the progress.\")"
      ],
      "metadata": {
        "id": "Hwi3SI8HDbX7"
      },
      "execution_count": 20,
      "outputs": []
    },
    {
      "cell_type": "code",
      "source": [
        "for token in doc:\n",
        "    print(token.text, \"\\t\", token.pos_, \"\\t\", token.lemma, \"\\t\", token.lemma_)"
      ],
      "metadata": {
        "colab": {
          "base_uri": "https://localhost:8080/"
        },
        "id": "_eG5lviSDnHw",
        "outputId": "d325d9ac-382a-444b-dbce-ab29f9769a37"
      },
      "execution_count": 21,
      "outputs": [
        {
          "output_type": "stream",
          "name": "stdout",
          "text": [
            "I \t PRON \t 4690420944186131903 \t I\n",
            "was \t AUX \t 10382539506755952630 \t be\n",
            "working \t VERB \t 10038440415813069799 \t work\n",
            "and \t CCONJ \t 2283656566040971221 \t and\n",
            "thinking \t VERB \t 16875814820671380748 \t think\n",
            "my \t PRON \t 227504873216781231 \t my\n",
            "boss \t NOUN \t 12250246145872007735 \t boss\n",
            "asked \t VERB \t 203487227105936704 \t ask\n",
            "me \t PRON \t 4690420944186131903 \t I\n",
            "about \t ADP \t 942632335873952620 \t about\n",
            "the \t DET \t 7425985699627899538 \t the\n",
            "progress \t NOUN \t 3100199706382727292 \t progress\n",
            ". \t PUNCT \t 12646065887601541794 \t .\n"
          ]
        }
      ]
    },
    {
      "cell_type": "code",
      "source": [
        "def show_lemmas(text):\n",
        "    for token in text:\n",
        "        print(f'{token.text:{12}} {token.pos_:{6}} {token.lemma:<{22}} {token.lemma_}')"
      ],
      "metadata": {
        "id": "ZYw3U9M4Dyc5"
      },
      "execution_count": 22,
      "outputs": []
    },
    {
      "cell_type": "code",
      "source": [
        "docs = nlp('It was raining outside.')"
      ],
      "metadata": {
        "id": "KECsT3ndD113"
      },
      "execution_count": 23,
      "outputs": []
    },
    {
      "cell_type": "code",
      "source": [
        "show_lemmas(docs)"
      ],
      "metadata": {
        "colab": {
          "base_uri": "https://localhost:8080/"
        },
        "id": "iM15dngyD9Z5",
        "outputId": "bd208671-266e-4965-c50b-a3c727ae33e3"
      },
      "execution_count": 24,
      "outputs": [
        {
          "output_type": "stream",
          "name": "stdout",
          "text": [
            "It           PRON   10239237003504588839   it\n",
            "was          AUX    10382539506755952630   be\n",
            "raining      VERB   6253719383086150949    rain\n",
            "outside      ADV    12341974070768608367   outside\n",
            ".            PUNCT  12646065887601541794   .\n"
          ]
        }
      ]
    },
    {
      "cell_type": "markdown",
      "source": [
        "##StopWords"
      ],
      "metadata": {
        "id": "2SIGjpMHEEOS"
      }
    },
    {
      "cell_type": "code",
      "source": [
        "import spacy"
      ],
      "metadata": {
        "id": "e4McZ3iuD_jT"
      },
      "execution_count": 25,
      "outputs": []
    },
    {
      "cell_type": "code",
      "source": [
        "nlp = spacy.load('en_core_web_sm')"
      ],
      "metadata": {
        "id": "vEDdq0X-EH22"
      },
      "execution_count": 26,
      "outputs": []
    },
    {
      "cell_type": "code",
      "source": [
        "print(nlp.Defaults.stop_words)"
      ],
      "metadata": {
        "colab": {
          "base_uri": "https://localhost:8080/"
        },
        "id": "vOwrz7pLEIo0",
        "outputId": "ddd746d1-27cb-4c40-842c-0a499aa6b7af"
      },
      "execution_count": 27,
      "outputs": [
        {
          "output_type": "stream",
          "name": "stdout",
          "text": [
            "{'but', 'formerly', 'under', 'sometimes', 'full', 'least', 'him', 'due', 'whole', 'something', 'again', 'out', 'beforehand', '’ve', 'through', 'though', 'himself', 'therefore', 'until', 'whose', \"'m\", 'enough', 'anything', 'any', 'how', 'thereafter', 'whoever', 'wherein', 'within', 'whereupon', 'mostly', 'itself', 'really', 'here', 'anywhere', 'doing', 'were', 'being', 'many', 'she', 'n’t', 'which', 'with', 'whenever', 'name', 'give', 'somewhere', 'either', 'seem', 'now', 'perhaps', 'there', 'had', 'both', 'keep', 'same', 'can', 'via', 'another', 'i', 'amongst', 'if', 'six', \"'ve\", 'at', 'forty', 'yourselves', 'top', 'the', 'becoming', 'by', 'never', 'various', 'it', 'thru', 'those', 'her', 'must', 'other', 'over', 'fifty', 'nothing', 'up', 'much', 'more', 'your', 'its', 'make', 'become', 'noone', 'ever', 'latterly', 'front', 'seeming', 'done', 'or', 'yours', 'whereby', 'almost', 'whereafter', 'twenty', 'has', 'besides', 'although', 'who', 'each', 'everything', 'per', 'please', 'show', 'several', 'since', '’re', 'next', '’s', 'herein', 'together', 'somehow', 'cannot', 'former', 'hereupon', 'been', 'throughout', 'became', 'say', 'nevertheless', 'rather', 'take', 'part', 'except', 'thus', '‘ll', 'my', 'used', 'where', 'could', 'fifteen', 'eleven', 'us', 'into', 'around', 'toward', 'we', 'last', 'move', 'thereby', 'four', 'was', 'wherever', 'whereas', 'whatever', 'on', \"'d\", 'well', 'as', 'hence', 'everyone', '’ll', 'whither', 'than', 'anyone', 'down', 'just', 'afterwards', 'third', 'you', 'always', 'nine', 'after', 'bottom', '‘ve', '‘s', \"'re\", 'about', 'first', 'of', 'ca', 'often', 'meanwhile', 'their', 'very', 'hereafter', 'ten', 'also', '‘d', 'beside', 'serious', 'would', 'else', 'yet', 'while', 'neither', 'before', 'does', 'made', 'is', 'do', 'for', 'in', 'during', 'might', 'he', 'moreover', 'that', 'this', 'using', 'still', 'am', 'what', 'otherwise', 'others', 'these', 'put', 'why', 'because', 'too', '‘m', 'all', 'everywhere', 'no', 'already', 'side', 'to', 'whether', 'three', 'even', 'own', 'thence', 'sometime', 'below', 'nowhere', 'along', 'not', 'get', 'ourselves', 'from', \"'ll\", 're', 'whence', 'whom', 'thereupon', 'them', 'go', 'nobody', 'call', 'unless', 'against', 'hers', 'however', 'n‘t', 'one', 'are', 'should', 'anyhow', 'some', 'nor', 'once', \"'s\", 'a', 'none', 'did', 'twelve', 'without', 'namely', 'quite', '‘re', 'therein', 'our', 'back', 'towards', 'between', 'becomes', '’d', 'anyway', 'upon', 'regarding', 'herself', 'hereby', 'will', 'and', 'few', 'me', 'two', 'most', 'yourself', 'seemed', 'when', 'onto', 'off', \"n't\", 'further', '’m', 'five', 'among', 'across', 'latter', 'myself', 'only', 'elsewhere', 'above', 'alone', 'themselves', 'an', 'every', 'indeed', 'empty', 'mine', 'have', 'amount', 'eight', 'beyond', 'his', 'see', 'may', 'be', 'seems', 'such', 'hundred', 'someone', 'then', 'sixty', 'they', 'so', 'behind', 'ours', 'less'}\n"
          ]
        }
      ]
    },
    {
      "cell_type": "code",
      "source": [
        "nlp.vocab['therefore'].is_stop"
      ],
      "metadata": {
        "colab": {
          "base_uri": "https://localhost:8080/"
        },
        "id": "i-KvNV8REKZZ",
        "outputId": "ba9fcc79-4643-4479-9da7-8f05bca88da0"
      },
      "execution_count": 28,
      "outputs": [
        {
          "output_type": "execute_result",
          "data": {
            "text/plain": [
              "True"
            ]
          },
          "metadata": {},
          "execution_count": 28
        }
      ]
    },
    {
      "cell_type": "code",
      "source": [
        "nlp.vocab['perhaps'].is_stop"
      ],
      "metadata": {
        "colab": {
          "base_uri": "https://localhost:8080/"
        },
        "id": "qqw02DXPEPOF",
        "outputId": "f80a1423-11ad-4847-c1f5-9cb881fd21a2"
      },
      "execution_count": 29,
      "outputs": [
        {
          "output_type": "execute_result",
          "data": {
            "text/plain": [
              "True"
            ]
          },
          "metadata": {},
          "execution_count": 29
        }
      ]
    },
    {
      "cell_type": "code",
      "source": [
        "nlp.Defaults.stop_words.add('could')"
      ],
      "metadata": {
        "id": "pKvLL3YNEUwe"
      },
      "execution_count": 30,
      "outputs": []
    },
    {
      "cell_type": "code",
      "source": [
        "nlp.vocab['could'].is_stop"
      ],
      "metadata": {
        "colab": {
          "base_uri": "https://localhost:8080/"
        },
        "id": "KvI-h949EfFI",
        "outputId": "c179be90-b164-4389-8a69-4c4c589d351b"
      },
      "execution_count": 31,
      "outputs": [
        {
          "output_type": "execute_result",
          "data": {
            "text/plain": [
              "True"
            ]
          },
          "metadata": {},
          "execution_count": 31
        }
      ]
    },
    {
      "cell_type": "code",
      "source": [
        "print(nlp.Defaults.stop_words)"
      ],
      "metadata": {
        "colab": {
          "base_uri": "https://localhost:8080/"
        },
        "id": "0OgdYwDtEiRW",
        "outputId": "898ae84a-12be-427b-a509-c5558f24229c"
      },
      "execution_count": 32,
      "outputs": [
        {
          "output_type": "stream",
          "name": "stdout",
          "text": [
            "{'but', 'formerly', 'under', 'sometimes', 'full', 'least', 'him', 'due', 'whole', 'something', 'again', 'out', 'beforehand', '’ve', 'through', 'though', 'himself', 'therefore', 'until', 'whose', \"'m\", 'enough', 'anything', 'any', 'how', 'thereafter', 'whoever', 'wherein', 'within', 'whereupon', 'mostly', 'itself', 'really', 'here', 'anywhere', 'doing', 'were', 'being', 'many', 'she', 'n’t', 'which', 'with', 'whenever', 'name', 'give', 'somewhere', 'either', 'seem', 'now', 'perhaps', 'there', 'had', 'both', 'keep', 'same', 'can', 'via', 'another', 'i', 'amongst', 'if', 'six', \"'ve\", 'at', 'forty', 'yourselves', 'top', 'the', 'becoming', 'by', 'never', 'various', 'it', 'thru', 'those', 'her', 'must', 'other', 'over', 'fifty', 'nothing', 'up', 'much', 'more', 'your', 'its', 'make', 'become', 'noone', 'ever', 'latterly', 'front', 'seeming', 'done', 'or', 'yours', 'whereby', 'almost', 'whereafter', 'twenty', 'has', 'besides', 'although', 'who', 'each', 'everything', 'per', 'please', 'show', 'several', 'since', '’re', 'next', '’s', 'herein', 'together', 'somehow', 'cannot', 'former', 'hereupon', 'been', 'throughout', 'became', 'say', 'nevertheless', 'rather', 'take', 'part', 'except', 'thus', '‘ll', 'my', 'used', 'where', 'could', 'fifteen', 'eleven', 'us', 'into', 'around', 'toward', 'we', 'last', 'move', 'thereby', 'four', 'was', 'wherever', 'whereas', 'whatever', 'on', \"'d\", 'well', 'as', 'hence', 'everyone', '’ll', 'whither', 'than', 'anyone', 'down', 'just', 'afterwards', 'third', 'you', 'always', 'nine', 'after', 'bottom', '‘ve', '‘s', \"'re\", 'about', 'first', 'of', 'ca', 'often', 'meanwhile', 'their', 'very', 'hereafter', 'ten', 'also', '‘d', 'beside', 'serious', 'would', 'else', 'yet', 'while', 'neither', 'before', 'does', 'made', 'is', 'do', 'for', 'in', 'during', 'might', 'he', 'moreover', 'that', 'this', 'using', 'still', 'am', 'what', 'otherwise', 'others', 'these', 'put', 'why', 'because', 'too', '‘m', 'all', 'everywhere', 'no', 'already', 'side', 'to', 'whether', 'three', 'even', 'own', 'thence', 'sometime', 'below', 'nowhere', 'along', 'not', 'get', 'ourselves', 'from', \"'ll\", 're', 'whence', 'whom', 'thereupon', 'them', 'go', 'nobody', 'call', 'unless', 'against', 'hers', 'however', 'n‘t', 'one', 'are', 'should', 'anyhow', 'some', 'nor', 'once', \"'s\", 'a', 'none', 'did', 'twelve', 'without', 'namely', 'quite', '‘re', 'therein', 'our', 'back', 'towards', 'between', 'becomes', '’d', 'anyway', 'upon', 'regarding', 'herself', 'hereby', 'will', 'and', 'few', 'me', 'two', 'most', 'yourself', 'seemed', 'when', 'onto', 'off', \"n't\", 'further', '’m', 'five', 'among', 'across', 'latter', 'myself', 'only', 'elsewhere', 'above', 'alone', 'themselves', 'an', 'every', 'indeed', 'empty', 'mine', 'have', 'amount', 'eight', 'beyond', 'his', 'see', 'may', 'be', 'seems', 'such', 'hundred', 'someone', 'then', 'sixty', 'they', 'so', 'behind', 'ours', 'less'}\n"
          ]
        }
      ]
    },
    {
      "cell_type": "code",
      "source": [
        "nlp.Defaults.stop_words.remove('n’t')"
      ],
      "metadata": {
        "id": "CSgKDn5-ElsR"
      },
      "execution_count": 33,
      "outputs": []
    },
    {
      "cell_type": "code",
      "source": [
        "print(nlp.Defaults.stop_words)"
      ],
      "metadata": {
        "colab": {
          "base_uri": "https://localhost:8080/"
        },
        "id": "pptEEIU6EttA",
        "outputId": "df5ff6d6-3c10-4549-c5cf-bd9cf68b0c5b"
      },
      "execution_count": 34,
      "outputs": [
        {
          "output_type": "stream",
          "name": "stdout",
          "text": [
            "{'but', 'formerly', 'under', 'sometimes', 'full', 'least', 'him', 'due', 'whole', 'something', 'again', 'out', 'beforehand', '’ve', 'through', 'though', 'himself', 'therefore', 'until', 'whose', \"'m\", 'enough', 'anything', 'any', 'how', 'thereafter', 'whoever', 'wherein', 'within', 'whereupon', 'mostly', 'itself', 'really', 'here', 'anywhere', 'doing', 'were', 'being', 'many', 'she', 'which', 'with', 'whenever', 'name', 'give', 'somewhere', 'either', 'seem', 'now', 'perhaps', 'there', 'had', 'both', 'keep', 'same', 'can', 'via', 'another', 'i', 'amongst', 'if', 'six', \"'ve\", 'at', 'forty', 'yourselves', 'top', 'the', 'becoming', 'by', 'never', 'various', 'it', 'thru', 'those', 'her', 'must', 'other', 'over', 'fifty', 'nothing', 'up', 'much', 'more', 'your', 'its', 'make', 'become', 'noone', 'ever', 'latterly', 'front', 'seeming', 'done', 'or', 'yours', 'whereby', 'almost', 'whereafter', 'twenty', 'has', 'besides', 'although', 'who', 'each', 'everything', 'per', 'please', 'show', 'several', 'since', '’re', 'next', '’s', 'herein', 'together', 'somehow', 'cannot', 'former', 'hereupon', 'been', 'throughout', 'became', 'say', 'nevertheless', 'rather', 'take', 'part', 'except', 'thus', '‘ll', 'my', 'used', 'where', 'could', 'fifteen', 'eleven', 'us', 'into', 'around', 'toward', 'we', 'last', 'move', 'thereby', 'four', 'was', 'wherever', 'whereas', 'whatever', 'on', \"'d\", 'well', 'as', 'hence', 'everyone', '’ll', 'whither', 'than', 'anyone', 'down', 'just', 'afterwards', 'third', 'you', 'always', 'nine', 'after', 'bottom', '‘ve', '‘s', \"'re\", 'about', 'first', 'of', 'ca', 'often', 'meanwhile', 'their', 'very', 'hereafter', 'ten', 'also', '‘d', 'beside', 'serious', 'would', 'else', 'yet', 'while', 'neither', 'before', 'does', 'made', 'is', 'do', 'for', 'in', 'during', 'might', 'he', 'moreover', 'that', 'this', 'using', 'still', 'am', 'what', 'otherwise', 'others', 'these', 'put', 'why', 'because', 'too', '‘m', 'all', 'everywhere', 'no', 'already', 'side', 'to', 'whether', 'three', 'even', 'own', 'thence', 'sometime', 'below', 'nowhere', 'along', 'not', 'get', 'ourselves', 'from', \"'ll\", 're', 'whence', 'whom', 'thereupon', 'them', 'go', 'nobody', 'call', 'unless', 'against', 'hers', 'however', 'n‘t', 'one', 'are', 'should', 'anyhow', 'some', 'nor', 'once', \"'s\", 'a', 'none', 'did', 'twelve', 'without', 'namely', 'quite', '‘re', 'therein', 'our', 'back', 'towards', 'between', 'becomes', '’d', 'anyway', 'upon', 'regarding', 'herself', 'hereby', 'will', 'and', 'few', 'me', 'two', 'most', 'yourself', 'seemed', 'when', 'onto', 'off', \"n't\", 'further', '’m', 'five', 'among', 'across', 'latter', 'myself', 'only', 'elsewhere', 'above', 'alone', 'themselves', 'an', 'every', 'indeed', 'empty', 'mine', 'have', 'amount', 'eight', 'beyond', 'his', 'see', 'may', 'be', 'seems', 'such', 'hundred', 'someone', 'then', 'sixty', 'they', 'so', 'behind', 'ours', 'less'}\n"
          ]
        }
      ]
    },
    {
      "cell_type": "code",
      "source": [
        "nlp.Defaults.stop_words.remove('’ve')"
      ],
      "metadata": {
        "id": "P2_Hm55GEvbV"
      },
      "execution_count": 35,
      "outputs": []
    },
    {
      "cell_type": "code",
      "source": [
        "print(nlp.Defaults.stop_words)"
      ],
      "metadata": {
        "colab": {
          "base_uri": "https://localhost:8080/"
        },
        "id": "GBjgt3a9E2N6",
        "outputId": "a8e7ad70-824d-4d5e-e329-499e47175bc5"
      },
      "execution_count": 36,
      "outputs": [
        {
          "output_type": "stream",
          "name": "stdout",
          "text": [
            "{'but', 'formerly', 'under', 'sometimes', 'full', 'least', 'him', 'due', 'whole', 'something', 'again', 'out', 'beforehand', 'through', 'though', 'himself', 'therefore', 'until', 'whose', \"'m\", 'enough', 'anything', 'any', 'how', 'thereafter', 'whoever', 'wherein', 'within', 'whereupon', 'mostly', 'itself', 'really', 'here', 'anywhere', 'doing', 'were', 'being', 'many', 'she', 'which', 'with', 'whenever', 'name', 'give', 'somewhere', 'either', 'seem', 'now', 'perhaps', 'there', 'had', 'both', 'keep', 'same', 'can', 'via', 'another', 'i', 'amongst', 'if', 'six', \"'ve\", 'at', 'forty', 'yourselves', 'top', 'the', 'becoming', 'by', 'never', 'various', 'it', 'thru', 'those', 'her', 'must', 'other', 'over', 'fifty', 'nothing', 'up', 'much', 'more', 'your', 'its', 'make', 'become', 'noone', 'ever', 'latterly', 'front', 'seeming', 'done', 'or', 'yours', 'whereby', 'almost', 'whereafter', 'twenty', 'has', 'besides', 'although', 'who', 'each', 'everything', 'per', 'please', 'show', 'several', 'since', '’re', 'next', '’s', 'herein', 'together', 'somehow', 'cannot', 'former', 'hereupon', 'been', 'throughout', 'became', 'say', 'nevertheless', 'rather', 'take', 'part', 'except', 'thus', '‘ll', 'my', 'used', 'where', 'could', 'fifteen', 'eleven', 'us', 'into', 'around', 'toward', 'we', 'last', 'move', 'thereby', 'four', 'was', 'wherever', 'whereas', 'whatever', 'on', \"'d\", 'well', 'as', 'hence', 'everyone', '’ll', 'whither', 'than', 'anyone', 'down', 'just', 'afterwards', 'third', 'you', 'always', 'nine', 'after', 'bottom', '‘ve', '‘s', \"'re\", 'about', 'first', 'of', 'ca', 'often', 'meanwhile', 'their', 'very', 'hereafter', 'ten', 'also', '‘d', 'beside', 'serious', 'would', 'else', 'yet', 'while', 'neither', 'before', 'does', 'made', 'is', 'do', 'for', 'in', 'during', 'might', 'he', 'moreover', 'that', 'this', 'using', 'still', 'am', 'what', 'otherwise', 'others', 'these', 'put', 'why', 'because', 'too', '‘m', 'all', 'everywhere', 'no', 'already', 'side', 'to', 'whether', 'three', 'even', 'own', 'thence', 'sometime', 'below', 'nowhere', 'along', 'not', 'get', 'ourselves', 'from', \"'ll\", 're', 'whence', 'whom', 'thereupon', 'them', 'go', 'nobody', 'call', 'unless', 'against', 'hers', 'however', 'n‘t', 'one', 'are', 'should', 'anyhow', 'some', 'nor', 'once', \"'s\", 'a', 'none', 'did', 'twelve', 'without', 'namely', 'quite', '‘re', 'therein', 'our', 'back', 'towards', 'between', 'becomes', '’d', 'anyway', 'upon', 'regarding', 'herself', 'hereby', 'will', 'and', 'few', 'me', 'two', 'most', 'yourself', 'seemed', 'when', 'onto', 'off', \"n't\", 'further', '’m', 'five', 'among', 'across', 'latter', 'myself', 'only', 'elsewhere', 'above', 'alone', 'themselves', 'an', 'every', 'indeed', 'empty', 'mine', 'have', 'amount', 'eight', 'beyond', 'his', 'see', 'may', 'be', 'seems', 'such', 'hundred', 'someone', 'then', 'sixty', 'they', 'so', 'behind', 'ours', 'less'}\n"
          ]
        }
      ]
    },
    {
      "cell_type": "code",
      "source": [],
      "metadata": {
        "id": "MpvBQwWiE3kN"
      },
      "execution_count": null,
      "outputs": []
    }
  ]
}