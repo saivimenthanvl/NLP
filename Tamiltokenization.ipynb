{
  "nbformat": 4,
  "nbformat_minor": 0,
  "metadata": {
    "colab": {
      "provenance": []
    },
    "kernelspec": {
      "name": "python3",
      "display_name": "Python 3"
    },
    "language_info": {
      "name": "python"
    }
  },
  "cells": [
    {
      "cell_type": "code",
      "execution_count": 60,
      "metadata": {
        "id": "fCqibVSn7KF5"
      },
      "outputs": [],
      "source": [
        "import spacy"
      ]
    },
    {
      "cell_type": "code",
      "source": [
        "# Load the language model\n",
        "nlp = spacy.load(\"en_core_web_sm\")"
      ],
      "metadata": {
        "id": "TqL-NVAb7w3u"
      },
      "execution_count": 61,
      "outputs": []
    },
    {
      "cell_type": "code",
      "source": [
        "doc = nlp(\"தினமும் உரையாட பயன்படும் சிறு ஆங்கில வாக்கியங்கள்\")"
      ],
      "metadata": {
        "id": "WKkDrURW72AY"
      },
      "execution_count": 62,
      "outputs": []
    },
    {
      "cell_type": "code",
      "source": [
        "for token in doc:\n",
        "  print(token.text, token.pos_, token.dep_)"
      ],
      "metadata": {
        "colab": {
          "base_uri": "https://localhost:8080/"
        },
        "id": "0kSs6pmk8pp-",
        "outputId": "8e8e23b1-75dc-4672-e986-891609a34eed"
      },
      "execution_count": 63,
      "outputs": [
        {
          "output_type": "stream",
          "name": "stdout",
          "text": [
            "தினமும் PROPN compound\n",
            "உரையாட PROPN nmod\n",
            "பயன்படும் PROPN appos\n",
            "சிறு PROPN appos\n",
            "ஆங்கில PROPN punct\n",
            "வாக்கியங்கள் PROPN ROOT\n"
          ]
        }
      ]
    },
    {
      "cell_type": "code",
      "source": [
        "doc[4]"
      ],
      "metadata": {
        "colab": {
          "base_uri": "https://localhost:8080/"
        },
        "id": "z20kO6EHAtah",
        "outputId": "9a3e3bb8-52be-43fc-872d-4a0fe4be1f5e"
      },
      "execution_count": 64,
      "outputs": [
        {
          "output_type": "execute_result",
          "data": {
            "text/plain": [
              "ஆங்கில"
            ]
          },
          "metadata": {},
          "execution_count": 64
        }
      ]
    },
    {
      "cell_type": "code",
      "source": [
        "doc[1:4]"
      ],
      "metadata": {
        "colab": {
          "base_uri": "https://localhost:8080/"
        },
        "id": "esE_tW2zA8YJ",
        "outputId": "8ddf200f-4d91-4779-9232-a2134cc8cf38"
      },
      "execution_count": 65,
      "outputs": [
        {
          "output_type": "execute_result",
          "data": {
            "text/plain": [
              "உரையாட பயன்படும் சிறு"
            ]
          },
          "metadata": {},
          "execution_count": 65
        }
      ]
    },
    {
      "cell_type": "code",
      "source": [
        "doc[5].lemma_"
      ],
      "metadata": {
        "colab": {
          "base_uri": "https://localhost:8080/",
          "height": 35
        },
        "id": "26Cn5AblCAcB",
        "outputId": "e669cf5f-963b-4d78-da54-d4f02c56819f"
      },
      "execution_count": 66,
      "outputs": [
        {
          "output_type": "execute_result",
          "data": {
            "text/plain": [
              "'வாக்கியங்கள்'"
            ],
            "application/vnd.google.colaboratory.intrinsic+json": {
              "type": "string"
            }
          },
          "metadata": {},
          "execution_count": 66
        }
      ]
    },
    {
      "cell_type": "code",
      "source": [
        "for token in doc:\n",
        "  print(token.text, end = '  ')"
      ],
      "metadata": {
        "colab": {
          "base_uri": "https://localhost:8080/"
        },
        "id": "BPsOFmziDxsM",
        "outputId": "af27443a-337f-4db6-a578-70f9f3057583"
      },
      "execution_count": 67,
      "outputs": [
        {
          "output_type": "stream",
          "name": "stdout",
          "text": [
            "தினமும்  உரையாட  பயன்படும்  சிறு  ஆங்கில  வாக்கியங்கள்  "
          ]
        }
      ]
    },
    {
      "cell_type": "code",
      "source": [
        "for ent in doc.ents:\n",
        "    print(ent.text_ + \" - \" + ent.label_ + \" - \" + str(spacy.explain(ent.label_)))"
      ],
      "metadata": {
        "id": "-02HTQHuBSC7"
      },
      "execution_count": 68,
      "outputs": []
    },
    {
      "cell_type": "code",
      "source": [],
      "metadata": {
        "id": "UzFHQGk4BYlp"
      },
      "execution_count": 68,
      "outputs": []
    }
  ]
}